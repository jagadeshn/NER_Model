{
 "cells": [
  {
   "cell_type": "code",
   "execution_count": 3,
   "metadata": {},
   "outputs": [
    {
     "name": "stdout",
     "output_type": "stream",
     "text": [
      "(S\n",
      "  (PERSON Mark/NNP)\n",
      "  and/CC\n",
      "  (PERSON John/NNP)\n",
      "  are/VBP\n",
      "  working/VBG\n",
      "  at/IN\n",
      "  (ORGANIZATION Google/NNP)\n",
      "  ./.)\n"
     ]
    },
    {
     "data": {
      "text/plain": [
       "'\\n(S\\n  (PERSON Mark/NNP)\\n  and/CC\\n  (PERSON John/NNP)\\n  are/VBP\\n  working/VBG\\n  at/IN\\n  (ORGANIZATION Google/NNP)\\n  ./.)\\n'"
      ]
     },
     "execution_count": 3,
     "metadata": {},
     "output_type": "execute_result"
    }
   ],
   "source": [
    "from nltk import word_tokenize, pos_tag, ne_chunk\n",
    " \n",
    "sentence = \"Mark and John are working at Google.\"\n",
    " \n",
    "print(ne_chunk(pos_tag(word_tokenize(sentence))))\n",
    "\"\"\"\n",
    "(S\n",
    "  (PERSON Mark/NNP)\n",
    "  and/CC\n",
    "  (PERSON John/NNP)\n",
    "  are/VBP\n",
    "  working/VBG\n",
    "  at/IN\n",
    "  (ORGANIZATION Google/NNP)\n",
    "  ./.)\n",
    "\"\"\""
   ]
  },
  {
   "cell_type": "code",
   "execution_count": 4,
   "metadata": {},
   "outputs": [
    {
     "name": "stdout",
     "output_type": "stream",
     "text": [
      "[('Mark', 'NNP', 'B-PERSON'), ('and', 'CC', 'O'), ('John', 'NNP', 'B-PERSON'), ('are', 'VBP', 'O'), ('working', 'VBG', 'O'), ('at', 'IN', 'O'), ('Google', 'NNP', 'B-ORGANIZATION'), ('.', '.', 'O')]\n",
      "(S\n",
      "  (PERSON Mark/NNP)\n",
      "  and/CC\n",
      "  (PERSON John/NNP)\n",
      "  are/VBP\n",
      "  working/VBG\n",
      "  at/IN\n",
      "  (ORGANIZATION Google/NNP)\n",
      "  ./.)\n"
     ]
    },
    {
     "data": {
      "text/plain": [
       "'\\n(S\\n  (PERSON Mark/NNP)\\n  and/CC\\n  (PERSON John/NNP)\\n  are/VBP\\n  working/VBG\\n  at/IN\\n  (ORGANIZATION Google/NNP)\\n  ./.)\\n'"
      ]
     },
     "execution_count": 4,
     "metadata": {},
     "output_type": "execute_result"
    }
   ],
   "source": [
    "from nltk.chunk import conlltags2tree, tree2conlltags\n",
    " \n",
    "sentence = \"Mark and John are working at Google.\"\n",
    "ne_tree = ne_chunk(pos_tag(word_tokenize(sentence)))\n",
    " \n",
    "iob_tagged = tree2conlltags(ne_tree)\n",
    "print(iob_tagged)\n",
    "\"\"\"\n",
    "[('Mark', 'NNP', u'B-PERSON'), ('and', 'CC', u'O'), ('John', 'NNP', u'B-PERSON'), ('are', 'VBP', u'O'), ('working', 'VBG', u'O'), ('at', 'IN', u'O'), ('Google', 'NNP', u'B-ORGANIZATION'), ('.', '.', u'O')]\n",
    "\"\"\"\n",
    " \n",
    "ne_tree = conlltags2tree(iob_tagged)\n",
    "print(ne_tree)\n",
    "\"\"\"\n",
    "(S\n",
    "  (PERSON Mark/NNP)\n",
    "  and/CC\n",
    "  (PERSON John/NNP)\n",
    "  are/VBP\n",
    "  working/VBG\n",
    "  at/IN\n",
    "  (ORGANIZATION Google/NNP)\n",
    "  ./.)\n",
    "\"\"\"\n",
    " "
   ]
  },
  {
   "cell_type": "code",
   "execution_count": null,
   "metadata": {},
   "outputs": [],
   "source": []
  }
 ],
 "metadata": {
  "kernelspec": {
   "display_name": "Python 3",
   "language": "python",
   "name": "python3"
  },
  "language_info": {
   "codemirror_mode": {
    "name": "ipython",
    "version": 3
   },
   "file_extension": ".py",
   "mimetype": "text/x-python",
   "name": "python",
   "nbconvert_exporter": "python",
   "pygments_lexer": "ipython3",
   "version": "3.7.3"
  }
 },
 "nbformat": 4,
 "nbformat_minor": 2
}
